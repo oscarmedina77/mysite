{
 "cells": [
  {
   "cell_type": "code",
   "execution_count": 1,
   "metadata": {},
   "outputs": [
    {
     "data": {
      "text/plain": [
       "16"
      ]
     },
     "execution_count": 1,
     "metadata": {},
     "output_type": "execute_result"
    }
   ],
   "source": [
    "import math\n",
    "\n",
    "def apply_twice(f, x):\n",
    "    return f(f(x))\n",
    "\n",
    "def square(x):\n",
    "    return x * x\n",
    "\n",
    "apply_twice(square, 2)"
   ]
  },
  {
   "cell_type": "code",
   "execution_count": 4,
   "metadata": {},
   "outputs": [
    {
     "data": {
      "text/plain": [
       "7"
      ]
     },
     "execution_count": 4,
     "metadata": {},
     "output_type": "execute_result"
    }
   ],
   "source": [
    "def make_adder(n):\n",
    "    \"\"\"return a function which adds N to its argument\"\"\"\n",
    "\n",
    "    def adder(x):\n",
    "        return n + x\n",
    "\n",
    "    return adder\n",
    "\n",
    "add_three = make_adder(3)\n",
    "add_three(4)"
   ]
  },
  {
   "cell_type": "code",
   "execution_count": null,
   "metadata": {},
   "outputs": [],
   "source": [
    "def heron_sqrt(n)\n",
    "    guess = 1\n",
    "    epsilon = 0.00001\n",
    "\n",
    "def good_enough(guess, n, epsilon):\n",
    "    return abs((guess * guess)- n) < epsilon\n",
    "\n",
    "def improve(guess, n):\n",
    "    return (guess + n /guess) / 2\n",
    "\n",
    "while not good_enough(guess, n, epsilon):\n",
    "    guess = improve(guess, n)\n",
    "return guess"
   ]
  },
  {
   "cell_type": "code",
   "execution_count": null,
   "metadata": {},
   "outputs": [],
   "source": [
    "def square(x):\n",
    "    return x: x * x\n",
    "\n",
    "square = lambda x: x * x\n",
    "#lambda has no return keyword, limited to single expression, no statements"
   ]
  },
  {
   "cell_type": "code",
   "execution_count": 9,
   "metadata": {},
   "outputs": [
    {
     "data": {
      "text/plain": [
       "75"
      ]
     },
     "execution_count": 9,
     "metadata": {},
     "output_type": "execute_result"
    }
   ],
   "source": [
    "def compose(f, g):\n",
    "    def composed(x):\n",
    "        return f(g(x))\n",
    "    return composed\n",
    "\n",
    "def triple(x):\n",
    "    return 3 * x\n",
    "\n",
    "def square(x):\n",
    "    return x * x\n",
    "\n",
    "triplesquare = compose(triple, square)\n",
    "triplesquare(5)"
   ]
  },
  {
   "cell_type": "code",
   "execution_count": 10,
   "metadata": {},
   "outputs": [
    {
     "data": {
      "text/plain": [
       "225"
      ]
     },
     "execution_count": 10,
     "metadata": {},
     "output_type": "execute_result"
    }
   ],
   "source": [
    "sqauretriple = compose(square, triple)\n",
    "sqauretriple(5)"
   ]
  },
  {
   "cell_type": "code",
   "execution_count": 16,
   "metadata": {},
   "outputs": [
    {
     "name": "stdout",
     "output_type": "stream",
     "text": [
      "calling <function square at 0x1053b7b50> with argument 4\n",
      "calling <function triple at 0x1053b7d90> with argument 3\n"
     ]
    },
    {
     "data": {
      "text/plain": [
       "9"
      ]
     },
     "execution_count": 16,
     "metadata": {},
     "output_type": "execute_result"
    }
   ],
   "source": [
    "def trace1(f):\n",
    "    def traced(x):\n",
    "        print(\"calling\", f, \"with argument\", x)\n",
    "        return f(x)\n",
    "    return traced\n",
    "\n",
    "def square(x):\n",
    "    return x * x\n",
    "\n",
    "trace1(square)(4)\n",
    "\n",
    "square = trace1(square)\n",
    "\n",
    "@trace1\n",
    "def triple(x):\n",
    "    return x + x + x\n",
    "\n",
    "triple(3)"
   ]
  },
  {
   "cell_type": "code",
   "execution_count": 19,
   "metadata": {},
   "outputs": [],
   "source": [
    "#def if(predicate, consequent, alternate):\n",
    "\n",
    "def sqaure(x):\n",
    "    return mul(x, x)\n",
    "\n",
    "def sum_of_squares(x, y):\n",
    "    return sqaure(x) + square(y)"
   ]
  },
  {
   "cell_type": "code",
   "execution_count": 2,
   "metadata": {},
   "outputs": [
    {
     "name": "stdout",
     "output_type": "stream",
     "text": [
      "1\n",
      "2\n",
      "3\n"
     ]
    },
    {
     "data": {
      "text/plain": [
       "<function __main__.print_all(x)>"
      ]
     },
     "execution_count": 2,
     "metadata": {},
     "output_type": "execute_result"
    }
   ],
   "source": [
    "def print_all(x):\n",
    "    print(x)\n",
    "    return print_all\n",
    "\n",
    "print_all(1)(2)(3)"
   ]
  },
  {
   "cell_type": "code",
   "execution_count": 8,
   "metadata": {},
   "outputs": [
    {
     "name": "stdout",
     "output_type": "stream",
     "text": [
      "2\n",
      "5\n",
      "9\n",
      "14\n"
     ]
    },
    {
     "data": {
      "text/plain": [
       "<function __main__.print_sums.<locals>.next_sum(y)>"
      ]
     },
     "execution_count": 8,
     "metadata": {},
     "output_type": "execute_result"
    }
   ],
   "source": [
    "def print_sums(x):\n",
    "    print(x)\n",
    "    def next_sum(y):\n",
    "        return print_sums(x+y)\n",
    "    return next_sum\n",
    "\n",
    "print_sums(2)(3)(4)(5)"
   ]
  },
  {
   "cell_type": "code",
   "execution_count": 10,
   "metadata": {},
   "outputs": [
    {
     "data": {
      "text/plain": [
       "6"
      ]
     },
     "execution_count": 10,
     "metadata": {},
     "output_type": "execute_result"
    }
   ],
   "source": [
    "def split(n):\n",
    "    return n // 10, n % 10\n",
    "\n",
    "def sum_digits(n):\n",
    "    if n < 10:\n",
    "        return n\n",
    "    else:\n",
    "        all_but_the_last, last = split(n)\n",
    "        return last + sum_digits(all_but_the_last)\n",
    "\n",
    "sum_digits(123)"
   ]
  },
  {
   "cell_type": "code",
   "execution_count": 11,
   "metadata": {},
   "outputs": [
    {
     "data": {
      "text/plain": [
       "24"
      ]
     },
     "execution_count": 11,
     "metadata": {},
     "output_type": "execute_result"
    }
   ],
   "source": [
    "def fact(n):\n",
    "    if n==0:\n",
    "        return 1\n",
    "    else:\n",
    "        return n * fact(n-1)\n",
    "\n",
    "fact(4)\n",
    "\n"
   ]
  },
  {
   "cell_type": "code",
   "execution_count": 12,
   "metadata": {},
   "outputs": [],
   "source": [
    "def fact_iter(n):\n",
    "    total, k = 1, 1\n",
    "    while k <= n:\n",
    "        total, k = total * k, k + 1\n",
    "    return total"
   ]
  },
  {
   "cell_type": "code",
   "execution_count": 14,
   "metadata": {},
   "outputs": [],
   "source": [
    "def lund_sum(n):\n",
    "    if n < 10:\n",
    "        return n\n",
    "    else:\n",
    "        all_but_the_last, last = split(n)\n",
    "        return last + lund_sum_double(all_but_the_last)\n"
   ]
  },
  {
   "cell_type": "code",
   "execution_count": 17,
   "metadata": {},
   "outputs": [
    {
     "data": {
      "text/plain": [
       "20"
      ]
     },
     "execution_count": 17,
     "metadata": {},
     "output_type": "execute_result"
    }
   ],
   "source": [
    "def lund_sum_double(n):\n",
    "    \n",
    "    if n < 10:\n",
    "        return sum_digits(2 * n)\n",
    "    else:\n",
    "        all_but_the_last, last = split(n)\n",
    "        return sum_digits(2 * last) + lund_sum(all_but_the_last)\n",
    "\n",
    "lund_sum(5105105105105100)"
   ]
  },
  {
   "cell_type": "code",
   "execution_count": 22,
   "metadata": {},
   "outputs": [
    {
     "data": {
      "text/plain": [
       "28"
      ]
     },
     "execution_count": 22,
     "metadata": {},
     "output_type": "execute_result"
    }
   ],
   "source": [
    "\n",
    "def natural_sum(n):\n",
    "    if n == 0:\n",
    "        return n\n",
    "\n",
    "    else:\n",
    "        return n + natural_sum(n-1)\n",
    "\n",
    "natural_sum(7)"
   ]
  },
  {
   "cell_type": "code",
   "execution_count": null,
   "metadata": {},
   "outputs": [],
   "source": [
    "#iterative\n",
    "\n",
    "def heron_sqrt(n)\n",
    "    guess = 1\n",
    "    epsilon = 0.00001\n",
    "\n",
    "def good_enough(guess, n, epsilon):\n",
    "    return abs((guess * guess)- n) < epsilon\n",
    "\n",
    "def improve(guess, n):\n",
    "    return (guess + n /guess) / 2\n",
    "\n",
    "while not good_enough(guess, n, epsilon):\n",
    "    guess = improve(guess, n)\n",
    "return guess"
   ]
  },
  {
   "cell_type": "code",
   "execution_count": 55,
   "metadata": {},
   "outputs": [
    {
     "name": "stdout",
     "output_type": "stream",
     "text": [
      "2\n",
      "5.0\n",
      "4.1\n",
      "4.001219512195122\n",
      "4.0000001858445895\n",
      "4.000000000000004\n"
     ]
    },
    {
     "data": {
      "text/plain": [
       "4.000000000000004"
      ]
     },
     "execution_count": 55,
     "metadata": {},
     "output_type": "execute_result"
    }
   ],
   "source": [
    "\n",
    "def heron_sqrt_rec(n,guess):\n",
    "    \n",
    "    epsilon = 0.000001\n",
    "    print(guess)\n",
    "    if abs( guess * guess - n) < epsilon:\n",
    "        return guess\n",
    "    else:\n",
    "        return heron_sqrt_rec(n, 0.5 * (guess + n/guess))\n",
    "\n",
    "heron_sqrt_rec(16,2)\n",
    "\n"
   ]
  },
  {
   "cell_type": "code",
   "execution_count": null,
   "metadata": {},
   "outputs": [],
   "source": []
  }
 ],
 "metadata": {
  "kernelspec": {
   "display_name": "Python 3.10.7 64-bit",
   "language": "python",
   "name": "python3"
  },
  "language_info": {
   "codemirror_mode": {
    "name": "ipython",
    "version": 3
   },
   "file_extension": ".py",
   "mimetype": "text/x-python",
   "name": "python",
   "nbconvert_exporter": "python",
   "pygments_lexer": "ipython3",
   "version": "3.10.7"
  },
  "orig_nbformat": 4,
  "vscode": {
   "interpreter": {
    "hash": "aee8b7b246df8f9039afb4144a1f6fd8d2ca17a180786b69acc140d282b71a49"
   }
  }
 },
 "nbformat": 4,
 "nbformat_minor": 2
}
